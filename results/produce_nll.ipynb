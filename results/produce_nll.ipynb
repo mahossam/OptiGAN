{
 "cells": [
  {
   "cell_type": "code",
   "execution_count": 1,
   "metadata": {
    "collapsed": true,
    "pycharm": {
     "is_executing": false,
     "name": "#%%\n"
    }
   },
   "outputs": [],
   "source": [
    "import pandas as pd\n",
    "import numpy as np\n",
    "import os, sys\n",
    "scores_group_dir = \"emnlp/nlls\"\n",
    "# scores_group_dir = \"coco/nlls\"\n",
    "dirs = [os.path.join(scores_group_dir, os.path.basename(d[0])) for d in os.walk(scores_group_dir)]\n",
    "dirs=dirs[1:]\n",
    "\n",
    "max_records = 1760//20+1  # 2000//20+1\n",
    "\n",
    "pm = \"\\\\pm\"  # u'\\u00B1'\n",
    "def minimum_valid_rows(dataframes_array):\n",
    "    min_length = np.min([df.values.shape[0] for df in dataframes_array])\n",
    "    return [df.values[:min_length, :] for df in dataframes_array]\n",
    "\n",
    "nlls_final_table = list()\n",
    "\n",
    "for d in dirs:\n",
    "    nll = list()\n",
    "    \n",
    "    directory_nlls_means = list()\n",
    "    \n",
    "    files = [fl for _, _, fl in os.walk(d)][0]\n",
    "    for f in files:\n",
    "        if \"ignore\" not in f:\n",
    "            nll.append(f)\n",
    "    nll = sorted(nll)\n",
    "    \n",
    "    scores_files = [nll]\n",
    "    for _, sfs in enumerate(scores_files):\n",
    "        dfs = [pd.read_csv(os.path.join(d,f), header=None, nrows=max_records) for f in sfs]          \n",
    "        \n",
    "        if len(dfs) == 0:\n",
    "            continue\n",
    "        merged_df = pd.concat([dfs[0]]+[pd.DataFrame(dfs[i].values[:, 1], columns=[os.path.splitext(sfs[i])[0]]) for i in range(1, len(dfs))], axis=1)\n",
    "    \n",
    "        rows_trimmed_arrays = minimum_valid_rows(dfs)\n",
    "        \n",
    "        means = np.mean(np.concatenate([arr[:, 1:2] for arr in rows_trimmed_arrays], axis=1), axis=1)\n",
    "        means = np.reshape(means, [-1, 1])\n",
    "        # mean_df = pd.DataFrame(np.concatenate([dfs[0].values[:, 0:1], means], axis=1), columns=['epoch', dfs[0].columns[1]])\n",
    "                \n",
    "        merged_df.to_csv(rf\"{d}/{os.path.basename(d)}_nlls_merged_ignore.csv\",index=False)\n",
    "        \n",
    "        directory_nlls_means.append([means])\n",
    "        \n",
    "    nlls_table = dict()\n",
    "    nlls_table[\"Model\"] = [f\"{os.path.basename(d)}\"]\n",
    "    for saved_means in directory_nlls_means:\n",
    "        # chosen_value = saved_means[0][-1][0]\n",
    "        chosen_value = np.mean(saved_means[0])\n",
    "        nlls_table[\"NLL\"] = [f\"{chosen_value:2.3f} {pm} {np.std(saved_means[0]):2.3f}\"]\n",
    "    \n",
    "    if len(nlls_table.keys()) > 1: \n",
    "        bdf = pd.DataFrame(nlls_table)\n",
    "        # bdf.to_csv(rf\"{d}/{os.path.basename(d)}_nlls_res_ignore.csv\",index=False)\n",
    "        nlls_final_table.append(bdf)\n",
    "        \n",
    "    \n",
    "if len(nlls_final_table) > 0:\n",
    "    pd.concat([df for df in nlls_final_table]).to_csv(rf\"{scores_group_dir}/nlls_res.csv\",index=False)\n"
   ]
  }
 ],
 "metadata": {
  "kernelspec": {
   "display_name": "Python 3",
   "language": "python",
   "name": "python3"
  },
  "language_info": {
   "codemirror_mode": {
    "name": "ipython",
    "version": 2
   },
   "file_extension": ".py",
   "mimetype": "text/x-python",
   "name": "python",
   "nbconvert_exporter": "python",
   "pygments_lexer": "ipython2",
   "version": "2.7.6"
  },
  "pycharm": {
   "stem_cell": {
    "cell_type": "raw",
    "source": [],
    "metadata": {
     "collapsed": false
    }
   }
  }
 },
 "nbformat": 4,
 "nbformat_minor": 0
}