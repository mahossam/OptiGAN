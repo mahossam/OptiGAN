{
 "cells": [
  {
   "cell_type": "code",
   "execution_count": 6,
   "metadata": {
    "collapsed": true,
    "pycharm": {
     "is_executing": false
    }
   },
   "outputs": [],
   "source": [
    "import pandas as pd\n",
    "import numpy as np\n",
    "import os, sys\n",
    "scores_group_dir = \"emnlp/bleus\"\n",
    "# scores_group_dir = \"coco/bleus\"\n",
    "dirs = [os.path.join(scores_group_dir, os.path.basename(d[0])) for d in os.walk(scores_group_dir)]\n",
    "dirs=dirs[1:]\n",
    "\n",
    "max_records = 1760//20+1  # 2000//20+1\n",
    "\n",
    "pm = \"\\\\pm\"  # u'\\u00B1'\n",
    "def minimum_valid_rows(dataframes_array):\n",
    "    min_length = np.min([df.values.shape[0] for df in dataframes_array])\n",
    "    return [df.values[:min_length, :] for df in dataframes_array]\n",
    "\n",
    "bleus_final_table = list()\n",
    "\n",
    "for d in dirs:\n",
    "    bleus2 = list()\n",
    "    bleus3 = list()\n",
    "    bleus4 = list()\n",
    "    bleus5 = list()\n",
    "    \n",
    "    directory_bleus_means = list()\n",
    "    \n",
    "    files = [fl for _, _, fl in os.walk(d)][0]\n",
    "    for f in files:\n",
    "        if \"bleus2\" in f and \"ignore\" not in f:\n",
    "            bleus2.append(f)\n",
    "        elif \"bleus3\" in f and \"ignore\" not in f:\n",
    "            bleus3.append(f)\n",
    "        elif \"bleus4\" in f and \"ignore\" not in f:\n",
    "            bleus4.append(f)\n",
    "        elif \"bleus5\" in f and \"ignore\" not in f:\n",
    "            bleus5.append(f)\n",
    "    bleus2 = sorted(bleus2)\n",
    "    bleus3 = sorted(bleus3)\n",
    "    bleus4 = sorted(bleus4)\n",
    "    bleus5 = sorted(bleus5)\n",
    "    \n",
    "    scores_files = [bleus2, bleus3, bleus4, bleus5]\n",
    "    for bleu_number, sfs in enumerate(scores_files):\n",
    "        dfs = [pd.read_csv(os.path.join(d,f), nrows=max_records) for f in sfs]\n",
    "        bleu_number = bleu_number + 2  \n",
    "        \n",
    "        if len(dfs) == 0:\n",
    "            continue\n",
    "        # merged_df = pd.concat([dfs[0]]+[pd.DataFrame(dfs[i].values[:, 1], columns=[f'Bleu{bleu_number}_{i+1}']) for i in range(1, len(dfs))], axis=1)\n",
    "        merged_df = pd.concat([dfs[0]]+[pd.DataFrame(dfs[i].values[:, 1], columns=[os.path.splitext(sfs[i])[0]]) for i in range(1, len(dfs))], axis=1)\n",
    "    \n",
    "        rows_trimmed_arrays = minimum_valid_rows(dfs)\n",
    "        \n",
    "        means = np.mean(np.concatenate([arr[:, 1:2] for arr in rows_trimmed_arrays], axis=1), axis=1)\n",
    "        means = np.reshape(means, [-1, 1])\n",
    "        # mean_df = pd.DataFrame(np.concatenate([dfs[0].values[:, 0:1], means], axis=1), columns=['epoch', dfs[0].columns[1]])\n",
    "                \n",
    "        merged_df.to_csv(rf\"{d}/{os.path.basename(d)}_bleus{bleu_number}_merged_ignore.csv\",index=False)\n",
    "        \n",
    "        directory_bleus_means.append([bleu_number, means])\n",
    "        \n",
    "    bleus_table = dict()\n",
    "    bleus_table[\"Model\"] = [f\"{os.path.basename(d)}\"]\n",
    "    for saved_means in directory_bleus_means:\n",
    "        # pd.DataFrame(np.array([np.mean(saved_means[1])*100.0, np.std(saved_means[1])*100.0]).reshape([1, 2]), columns=['Mean', 'Std_dev']).to_csv(rf\"{d}/{os.path.basename(d)}_bleus{saved_means[0]}_res_ignore.csv\",index=False)\n",
    "        bleus_table[f\"BLEU-{saved_means[0]}\"] = [f\"{np.mean(saved_means[1])*100.0:2.2f} {pm} {np.std(saved_means[1])*100.0:2.2f}\"]\n",
    "        # bleus_table.append([f\"BLEU-{saved_means[0]}\", f\"{np.mean(saved_means[1])*100.0} {pm} {np.std(saved_means[1])*100.0}\"])\n",
    "    \n",
    "    if len(bleus_table.keys()) > 1: \n",
    "        # pd.DataFrame(bleus_table, columns=['', f'{os.path.basename(d)}']).to_csv(rf\"{d}/{os.path.basename(d)}_bleus_res_ignore.csv\",index=False)\n",
    "        bdf = pd.DataFrame(bleus_table)\n",
    "        # bdf.to_csv(rf\"{d}/{os.path.basename(d)}_bleus_res_ignore.csv\",index=False)\n",
    "        bleus_final_table.append(bdf)\n",
    "        \n",
    "    \n",
    "if len(bleus_final_table) > 0:\n",
    "    pd.concat([df for df in bleus_final_table]).to_csv(rf\"{scores_group_dir}/bleus_res.csv\",index=False)"
   ]
  },
  {
   "cell_type": "code",
   "execution_count": 5,
   "outputs": [],
   "source": [
    "\n",
    "# from matplotlib import pyplot as pl\n",
    "# import numpy as np\n",
    "\n",
    "# # x = np.linspace(0, 100, 100)\n",
    "# # y = np.sin(x/6*np.pi)\n",
    "# mix = np.random.normal(0.1, 0.02, size=y.shape)\n",
    "# y += np.random.normal(0, 0.1, size=y.shape)\n",
    "# \n",
    "# pl.plot(x, y, 'k-')\n",
    "# pl.fill_between(x, y-error, y+error)\n",
    "# pl.show()"
   ],
   "metadata": {
    "collapsed": false,
    "pycharm": {
     "name": "#%%\n",
     "is_executing": false
    }
   }
  }
 ],
 "metadata": {
  "kernelspec": {
   "display_name": "Python 3",
   "language": "python",
   "name": "python3"
  },
  "language_info": {
   "codemirror_mode": {
    "name": "ipython",
    "version": 2
   },
   "file_extension": ".py",
   "mimetype": "text/x-python",
   "name": "python",
   "nbconvert_exporter": "python",
   "pygments_lexer": "ipython2",
   "version": "2.7.6"
  },
  "pycharm": {
   "stem_cell": {
    "cell_type": "raw",
    "source": [],
    "metadata": {
     "collapsed": false
    }
   }
  }
 },
 "nbformat": 4,
 "nbformat_minor": 0
}